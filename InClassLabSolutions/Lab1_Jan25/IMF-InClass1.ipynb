{
 "cells": [
  {
   "cell_type": "code",
   "execution_count": 2,
   "metadata": {
    "collapsed": true
   },
   "outputs": [],
   "source": [
    "# IMF In Class Assignment 1:  Part 2\n",
    "# Jan 25 2018\n",
    "\n",
    "import numpy as np\n",
    "from scipy.integrate import quad"
   ]
  },
  {
   "cell_type": "code",
   "execution_count": 3,
   "metadata": {
    "collapsed": true
   },
   "outputs": [],
   "source": [
    "# Salpeter IMF: Fractional distribution of stars from 0.1-120 Msun\n",
    "# input: M (array of stellar masses)\n",
    "# minimum mass and maximal mass for the integration. \n",
    "def SalpeterN(M,Mmin, Mmax):\n",
    "    \n",
    "    # Determine magnitude of the integral\n",
    "    Norm = quad(lambda M: M**(-2.35), Mmin,Mmax)\n",
    "    # Normalize to one\n",
    "    A = 1./Norm[0]\n",
    "\n",
    "    # return the normalized function.\n",
    "    return A*M**(-2.35)"
   ]
  },
  {
   "cell_type": "code",
   "execution_count": 4,
   "metadata": {},
   "outputs": [
    {
     "name": "stdout",
     "output_type": "stream",
     "text": [
      "Fractional number of stars more massive than the Sun = 0.045\n"
     ]
    }
   ],
   "source": [
    "# Determine the fraction of stars more massive than the sun  (M= 1.0)\n",
    "Frac = quad(lambda M: SalpeterN(M,0.1,120),1.0,120)\n",
    "print(\"Fractional number of stars more massive than the Sun =\", np.round(Frac[0],3))\n",
    "\n",
    "# test 1:\n",
    "#Frac = quad(lambda M: SalpeterN(M,0.1,120),0.1,1)\n",
    "#print(\"Fractional number of stars less massive than the Sun =\", np.round(Frac[0],3))\n",
    "\n",
    "# test 2:\n",
    "#Frac = quad(lambda M: SalpeterN(M,0.1,120),0.1,120)\n",
    "#print(\"Should return 1.0 =\", np.round(Frac[0],3))\n",
    "\n"
   ]
  },
  {
   "cell_type": "code",
   "execution_count": null,
   "metadata": {
    "collapsed": true
   },
   "outputs": [],
   "source": []
  }
 ],
 "metadata": {
  "kernelspec": {
   "display_name": "Python 3",
   "language": "python",
   "name": "python3"
  },
  "language_info": {
   "codemirror_mode": {
    "name": "ipython",
    "version": 3
   },
   "file_extension": ".py",
   "mimetype": "text/x-python",
   "name": "python",
   "nbconvert_exporter": "python",
   "pygments_lexer": "ipython3",
   "version": "3.6.1"
  }
 },
 "nbformat": 4,
 "nbformat_minor": 2
}
