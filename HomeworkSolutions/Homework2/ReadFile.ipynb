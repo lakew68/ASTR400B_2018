{
 "cells": [
  {
   "cell_type": "code",
   "execution_count": 38,
   "metadata": {
    "collapsed": true
   },
   "outputs": [],
   "source": [
    "import numpy as np\n",
    "import astropy.units as u"
   ]
  },
  {
   "cell_type": "code",
   "execution_count": 51,
   "metadata": {
    "collapsed": true
   },
   "outputs": [],
   "source": [
    "# define a function that will read in a file\n",
    "# input: filename as a string  e.g. \"MW_000.txt\"\n",
    "def Read(filename):\n",
    "    \n",
    "    \n",
    "    # open the file \n",
    "    file = open(filename,'r')\n",
    "    \n",
    "    #read header info line by line (line will be a string)\n",
    "    # read first two lines FIRST and store as variable\n",
    "    \n",
    "    # read and store time\n",
    "    line1 = file.readline()\n",
    "    label, value = line1.split()\n",
    "    time = float(value)*10.0*u.Myr\n",
    "\n",
    "    # read and store total number of particles\n",
    "    line2 = file.readline()\n",
    "    label, value = line2.split()\n",
    "    total = float(value)\n",
    "    \n",
    "    # close file\n",
    "    file.close()\n",
    "\n",
    "    # read the remainder of the file, \n",
    "    # \"dtype=None\" means line is split using white spaces\n",
    "    # \"skip_header=3\"  skipping the first 3 lines \n",
    "    # the flag \"names=True\" creates arrays to store the date\n",
    "    #       with the column headers given in line 4 like \"m\", \"x\"\n",
    "    data = np.genfromtxt(filename,dtype=None,names=True,skip_header=3)\n",
    "\n",
    "    # this will return the time of the snapshot, \n",
    "    #total number of particles \n",
    "    #and an array that stores the remainder of the data. \n",
    "    return time, total, data"
   ]
  },
  {
   "cell_type": "markdown",
   "metadata": {},
   "source": [
    "Checking to see if the code works:"
   ]
  },
  {
   "cell_type": "code",
   "execution_count": 52,
   "metadata": {
    "collapsed": true
   },
   "outputs": [],
   "source": [
    "time, total, data =Read(\"MW_000.txt\")"
   ]
  },
  {
   "cell_type": "code",
   "execution_count": 53,
   "metadata": {},
   "outputs": [
    {
     "data": {
      "text/latex": [
       "$0 \\; \\mathrm{Myr}$"
      ],
      "text/plain": [
       "<Quantity 0.0 Myr>"
      ]
     },
     "execution_count": 53,
     "metadata": {},
     "output_type": "execute_result"
    }
   ],
   "source": [
    "time"
   ]
  },
  {
   "cell_type": "code",
   "execution_count": 54,
   "metadata": {},
   "outputs": [
    {
     "data": {
      "text/plain": [
       "135000.0"
      ]
     },
     "execution_count": 54,
     "metadata": {},
     "output_type": "execute_result"
    }
   ],
   "source": [
    "total"
   ]
  },
  {
   "cell_type": "code",
   "execution_count": 55,
   "metadata": {},
   "outputs": [
    {
     "data": {
      "text/latex": [
       "$39498500 \\; \\mathrm{M_{\\odot}}$"
      ],
      "text/plain": [
       "<Quantity 39498500.00000001 solMass>"
      ]
     },
     "execution_count": 55,
     "metadata": {},
     "output_type": "execute_result"
    }
   ],
   "source": [
    " data['m'][1]*u.Msun*1e10"
   ]
  },
  {
   "cell_type": "code",
   "execution_count": 56,
   "metadata": {
    "collapsed": true
   },
   "outputs": [],
   "source": [
    "xx = data['x'][1]*u.kpc "
   ]
  },
  {
   "cell_type": "code",
   "execution_count": null,
   "metadata": {
    "collapsed": true
   },
   "outputs": [],
   "source": []
  }
 ],
 "metadata": {
  "kernelspec": {
   "display_name": "Python 3",
   "language": "python",
   "name": "python3"
  },
  "language_info": {
   "codemirror_mode": {
    "name": "ipython",
    "version": 3
   },
   "file_extension": ".py",
   "mimetype": "text/x-python",
   "name": "python",
   "nbconvert_exporter": "python",
   "pygments_lexer": "ipython3",
   "version": "3.6.1"
  }
 },
 "nbformat": 4,
 "nbformat_minor": 2
}
