{
 "cells": [
  {
   "cell_type": "code",
   "execution_count": 2,
   "metadata": {
    "collapsed": true
   },
   "outputs": [],
   "source": [
    "import numpy as np\n",
    "import astropy.units as u\n",
    "from ReadFile import Read"
   ]
  },
  {
   "cell_type": "code",
   "execution_count": 12,
   "metadata": {
    "collapsed": true
   },
   "outputs": [],
   "source": [
    "# define a function that takes in the desired particle type\n",
    "#  and the particle number and prints the 3D position, \n",
    "#  velocity and mass\n",
    "#  input:  Ptype e.g. 1,2,3\n",
    "#  PNum:  particle number e.g. 100 \n",
    "#  filename \"MW_000.txt\"\n",
    "# Return 3D Pos and 3D Vel and mass\n",
    "\n",
    "def ParticleInfo(PType, PNum, filename):\n",
    "    \n",
    "    # read in the file \n",
    "    time, total, data = Read(filename)\n",
    "\n",
    "    \n",
    "    #create an array to store indexes of particles of desired Ptype\n",
    "    index = np.where(data['type'] == PType)\n",
    "\n",
    "    # create new arrays with the m, x, y, z, \n",
    "    # vx, vy, vz of just the Ptype desired\n",
    "    # Add units using Astropy\n",
    "    # Recall Mass was stored in units of Msun/1e10\n",
    "    mnew = data['m'][index]*1e10*u.Msun\n",
    "    xnew = data['x'][index]*u.kpc\n",
    "    ynew = data['y'][index]*u.kpc\n",
    "    znew = data['z'][index]*u.kpc\n",
    "    vxnew = data['vx'][index]*u.km/u.s\n",
    "    vynew = data['vy'][index]*u.km/u.s\n",
    "    vznew = data['vz'][index]*u.km/u.s\n",
    "    \n",
    "    # 3D position\n",
    "    # Value is rounded to 3 decimal places.\n",
    "    R3D = np.round(np.sqrt(xnew[PNum-1]**2 + ynew[PNum-1]**2 + znew[PNum-1]**2),3)\n",
    "    \n",
    "    # 3D velocity\n",
    "    # Value is rounded to 3 decimal places.\n",
    "    V3D = np.round(np.sqrt(vxnew[PNum-1]**2 + vynew[PNum-1]**2 + vznew[PNum-1]**2),3)\n",
    "    \n",
    "    # Mass\n",
    "    # Value is rounded to 3 decimal places\n",
    "    Mass = np.round(mnew[PNum-1],3)\n",
    "    \n",
    "    print(vxnew[PNum-1], vynew[PNum-1], vznew[PNum-1])\n",
    "    \n",
    "    return R3D, V3D, Mass\n",
    "    \n",
    "    "
   ]
  },
  {
   "cell_type": "code",
   "execution_count": 19,
   "metadata": {},
   "outputs": [
    {
     "name": "stdout",
     "output_type": "stream",
     "text": [
      "-109.564 km / s -184.728 km / s 3.12886 km / s\n"
     ]
    }
   ],
   "source": [
    "R3D, V3D, Mass = ParticleInfo(2,101,\"MW_000.txt\")"
   ]
  },
  {
   "cell_type": "code",
   "execution_count": 5,
   "metadata": {},
   "outputs": [
    {
     "data": {
      "text/latex": [
       "$4.245 \\; \\mathrm{kpc}$"
      ],
      "text/plain": [
       "<Quantity 4.245 kpc>"
      ]
     },
     "execution_count": 5,
     "metadata": {},
     "output_type": "execute_result"
    }
   ],
   "source": [
    "R3D"
   ]
  },
  {
   "cell_type": "code",
   "execution_count": 6,
   "metadata": {},
   "outputs": [
    {
     "data": {
      "text/latex": [
       "$312.135 \\; \\mathrm{\\frac{km}{s}}$"
      ],
      "text/plain": [
       "<Quantity 312.135 km / s>"
      ]
     },
     "execution_count": 6,
     "metadata": {},
     "output_type": "execute_result"
    }
   ],
   "source": [
    "V3D"
   ]
  },
  {
   "cell_type": "code",
   "execution_count": 7,
   "metadata": {},
   "outputs": [
    {
     "data": {
      "text/latex": [
       "$1000000 \\; \\mathrm{M_{\\odot}}$"
      ],
      "text/plain": [
       "<Quantity 1000000.0 solMass>"
      ]
     },
     "execution_count": 7,
     "metadata": {},
     "output_type": "execute_result"
    }
   ],
   "source": [
    "Mass"
   ]
  },
  {
   "cell_type": "code",
   "execution_count": 8,
   "metadata": {},
   "outputs": [
    {
     "data": {
      "text/latex": [
       "$13845.338 \\; \\mathrm{lyr}$"
      ],
      "text/plain": [
       "<Quantity 13845.33823396728 lyr>"
      ]
     },
     "execution_count": 8,
     "metadata": {},
     "output_type": "execute_result"
    }
   ],
   "source": [
    "R3D.to(u.lyr)"
   ]
  },
  {
   "cell_type": "code",
   "execution_count": null,
   "metadata": {
    "collapsed": true
   },
   "outputs": [],
   "source": []
  }
 ],
 "metadata": {
  "kernelspec": {
   "display_name": "Python 3",
   "language": "python",
   "name": "python3"
  },
  "language_info": {
   "codemirror_mode": {
    "name": "ipython",
    "version": 3
   },
   "file_extension": ".py",
   "mimetype": "text/x-python",
   "name": "python",
   "nbconvert_exporter": "python",
   "pygments_lexer": "ipython3",
   "version": "3.6.1"
  }
 },
 "nbformat": 4,
 "nbformat_minor": 2
}
